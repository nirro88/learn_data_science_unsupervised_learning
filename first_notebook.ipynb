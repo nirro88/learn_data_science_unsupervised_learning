{
 "cells": [
  {
   "cell_type": "markdown",
   "metadata": {},
   "source": [
    "# practice unsupervised learning"
   ]
  },
  {
   "cell_type": "markdown",
   "metadata": {},
   "source": [
    "##### in this notebook we will practice and explore unsupervised learning techniques\n",
    "##### in each section we will explore a different technique, and have a practical code example\n",
    "##### the steps we will follow are:\n",
    "##### 1. load the data\n",
    "##### 2. explore and visualized the data\n",
    "##### 3. preprocess the data\n",
    "##### 4. evaluate the performance of some clustering algorithms\n",
    "##### 5. visualize the clusters\n",
    "##### 6. evaluate the performance of some dimensionality reduction algorithms\n",
    "##### 7. visualize the data in 2D\n",
    "##### 8. visualize the data in 3D\n"
   ]
  },
  {
   "cell_type": "code",
   "execution_count": 3,
   "metadata": {},
   "outputs": [],
   "source": [
    "# step 1. import all the required libraries for unsupervised learning and load the data\n",
    "import pandas as pd\n",
    "import numpy as np\n",
    "import matplotlib.pyplot as plt\n",
    "import seaborn as sns\n",
    "\n",
    "\n",
    "from sklearn.cluster import KMeans\n",
    "from sklearn.preprocessing import StandardScaler,MinMaxScaler\n",
    "from sklearn.decomposition import PCA\n",
    "from sklearn.metrics import silhouette_score,\n",
    "\n"
   ]
  },
  {
   "cell_type": "code",
   "execution_count": null,
   "metadata": {},
   "outputs": [],
   "source": [
    "# step 2. load the data\n",
    "df=pd.read_csv('CC_GENERAL.csv')\n",
    "df.head()\n",
    "df.shape\n"
   ]
  }
 ],
 "metadata": {
  "kernelspec": {
   "display_name": "base",
   "language": "python",
   "name": "python3"
  },
  "language_info": {
   "codemirror_mode": {
    "name": "ipython",
    "version": 3
   },
   "file_extension": ".py",
   "mimetype": "text/x-python",
   "name": "python",
   "nbconvert_exporter": "python",
   "pygments_lexer": "ipython3",
   "version": "3.9.13"
  }
 },
 "nbformat": 4,
 "nbformat_minor": 2
}
